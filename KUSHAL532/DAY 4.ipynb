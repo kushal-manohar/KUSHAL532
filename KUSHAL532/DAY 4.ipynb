{
 "cells": [
  {
   "cell_type": "markdown",
   "metadata": {},
   "source": [
    "# Packages"
   ]
  },
  {
   "cell_type": "code",
   "execution_count": 4,
   "metadata": {},
   "outputs": [],
   "source": [
    "from packages import module"
   ]
  },
  {
   "cell_type": "code",
   "execution_count": 6,
   "metadata": {},
   "outputs": [
    {
     "data": {
      "text/plain": [
       "5"
      ]
     },
     "execution_count": 6,
     "metadata": {},
     "output_type": "execute_result"
    }
   ],
   "source": [
    "module.add(2,3)"
   ]
  },
  {
   "cell_type": "code",
   "execution_count": 7,
   "metadata": {},
   "outputs": [
    {
     "data": {
      "text/plain": [
       "112"
      ]
     },
     "execution_count": 7,
     "metadata": {},
     "output_type": "execute_result"
    }
   ],
   "source": [
    "module.add(45,67)"
   ]
  },
  {
   "cell_type": "code",
   "execution_count": 12,
   "metadata": {},
   "outputs": [],
   "source": [
    "from packages import module"
   ]
  },
  {
   "cell_type": "code",
   "execution_count": 17,
   "metadata": {},
   "outputs": [
    {
     "data": {
      "text/plain": [
       "16"
      ]
     },
     "execution_count": 17,
     "metadata": {},
     "output_type": "execute_result"
    }
   ],
   "source": [
    "module.add(7,9)"
   ]
  },
  {
   "cell_type": "code",
   "execution_count": 1,
   "metadata": {},
   "outputs": [],
   "source": [
    "from packages import module"
   ]
  },
  {
   "cell_type": "code",
   "execution_count": 2,
   "metadata": {},
   "outputs": [
    {
     "name": "stdout",
     "output_type": "stream",
     "text": [
      "number of factors for 14 is 4\n",
      "14 is not prime\n"
     ]
    }
   ],
   "source": [
    "module.isprime(14)"
   ]
  },
  {
   "cell_type": "code",
   "execution_count": 6,
   "metadata": {},
   "outputs": [],
   "source": [
    "from packages import module"
   ]
  },
  {
   "cell_type": "code",
   "execution_count": 4,
   "metadata": {},
   "outputs": [
    {
     "name": "stdout",
     "output_type": "stream",
     "text": [
      "2 is even\n",
      "3 is odd\n",
      "4 is even\n",
      "5 is odd\n",
      "6 is even\n",
      "7 is odd\n",
      "8 is even\n",
      "9 is odd\n",
      "10 is even\n",
      "11 is odd\n",
      "12 is even\n",
      "13 is odd\n",
      "14 is even\n",
      "15 is odd\n",
      "16 is even\n",
      "17 is odd\n",
      "18 is even\n",
      "19 is odd\n"
     ]
    }
   ],
   "source": [
    "module.evod(2,20)"
   ]
  },
  {
   "cell_type": "code",
   "execution_count": 5,
   "metadata": {},
   "outputs": [
    {
     "name": "stdout",
     "output_type": "stream",
     "text": [
      "1 is odd\n",
      "2 is even\n",
      "3 is odd\n",
      "4 is even\n",
      "5 is odd\n",
      "6 is even\n",
      "7 is odd\n",
      "8 is even\n",
      "9 is odd\n",
      "10 is even\n",
      "11 is odd\n",
      "12 is even\n",
      "13 is odd\n",
      "14 is even\n",
      "15 is odd\n",
      "16 is even\n",
      "17 is odd\n",
      "18 is even\n",
      "19 is odd\n"
     ]
    }
   ],
   "source": [
    "module.evod(1,20)"
   ]
  },
  {
   "cell_type": "code",
   "execution_count": 2,
   "metadata": {},
   "outputs": [],
   "source": [
    "from packages import module"
   ]
  },
  {
   "cell_type": "code",
   "execution_count": 3,
   "metadata": {},
   "outputs": [
    {
     "name": "stdout",
     "output_type": "stream",
     "text": [
      "2 is even\n",
      "4 is even\n",
      "6 is even\n",
      "8 is even\n",
      "10 is even\n",
      "12 is even\n",
      "14 is even\n",
      "16 is even\n",
      "18 is even\n",
      "20 is even\n"
     ]
    }
   ],
   "source": [
    "module.even(1,21)"
   ]
  },
  {
   "cell_type": "code",
   "execution_count": 3,
   "metadata": {},
   "outputs": [
    {
     "data": {
      "text/plain": [
       "120"
      ]
     },
     "execution_count": 3,
     "metadata": {},
     "output_type": "execute_result"
    }
   ],
   "source": [
    "def fact(n):\n",
    "    if n==1:\n",
    "        return 1\n",
    "    else:\n",
    "        return(n*fact(n-1))\n",
    "fact(5)"
   ]
  },
  {
   "cell_type": "code",
   "execution_count": 4,
   "metadata": {},
   "outputs": [],
   "source": [
    "from packages import module"
   ]
  },
  {
   "cell_type": "code",
   "execution_count": 5,
   "metadata": {},
   "outputs": [
    {
     "data": {
      "text/plain": [
       "720"
      ]
     },
     "execution_count": 5,
     "metadata": {},
     "output_type": "execute_result"
    }
   ],
   "source": [
    "module.fact(6)"
   ]
  },
  {
   "cell_type": "markdown",
   "metadata": {},
   "source": [
    "# Files"
   ]
  },
  {
   "cell_type": "code",
   "execution_count": 7,
   "metadata": {},
   "outputs": [],
   "source": [
    "#open(data.txt,mode)\n",
    "#write(data.txt,'w')\n",
    "#read(data.txt,'r')\n",
    "#append(data.txt,'a')\n",
    "#f.close()"
   ]
  },
  {
   "cell_type": "code",
   "execution_count": 8,
   "metadata": {},
   "outputs": [],
   "source": [
    "def writeData():\n",
    "    with open(\"files/data1.txt\",'w')as f:\n",
    "        f.write(\"PYTHON WORKSHOP\")\n",
    "    f.close()\n",
    "writeData()"
   ]
  },
  {
   "cell_type": "code",
   "execution_count": 19,
   "metadata": {},
   "outputs": [
    {
     "name": "stdout",
     "output_type": "stream",
     "text": [
      "PYTHON WORKSHOPDAY 4 DAY 4\n",
      " DAY 4\n",
      " DAY 4\n",
      " DAY 4\n",
      " DAY 4\n"
     ]
    }
   ],
   "source": [
    "def readData():\n",
    "    with open(\"files/data1.txt\",\"r\")as f:\n",
    "        print(f.read())\n",
    "readData()"
   ]
  },
  {
   "cell_type": "code",
   "execution_count": 10,
   "metadata": {},
   "outputs": [
    {
     "data": {
      "text/plain": [
       "3.0"
      ]
     },
     "execution_count": 10,
     "metadata": {},
     "output_type": "execute_result"
    }
   ],
   "source": [
    "from math import sqrt as v\n",
    "v(9)"
   ]
  },
  {
   "cell_type": "code",
   "execution_count": 21,
   "metadata": {},
   "outputs": [],
   "source": [
    "def appendData():\n",
    "    with open(\"files/data1.txt\",\"a\")as f:\n",
    "        f.write(\"\\n DAY 4\")\n",
    "    f.close()\n",
    "appendData()"
   ]
  },
  {
   "cell_type": "code",
   "execution_count": 24,
   "metadata": {
    "collapsed": true
   },
   "outputs": [
    {
     "name": "stdout",
     "output_type": "stream",
     "text": [
      "P\n",
      "Y\n",
      "T\n",
      "H\n",
      "O\n",
      "N\n",
      " \n",
      "W\n",
      "O\n",
      "R\n",
      "K\n",
      "S\n",
      "H\n",
      "O\n",
      "P\n",
      "D\n",
      "A\n",
      "Y\n",
      " \n",
      "4\n",
      " \n",
      "D\n",
      "A\n",
      "Y\n",
      " \n",
      "4\n",
      "\n",
      "\n",
      " \n",
      "D\n",
      "A\n",
      "Y\n",
      " \n",
      "4\n",
      "\n",
      "\n",
      " \n",
      "D\n",
      "A\n",
      "Y\n",
      " \n",
      "4\n",
      "\n",
      "\n",
      " \n",
      "D\n",
      "A\n",
      "Y\n",
      " \n",
      "4\n",
      "\n",
      "\n",
      " \n",
      "D\n",
      "A\n",
      "Y\n",
      " \n",
      "4\n",
      "\n",
      "\n",
      " \n",
      "D\n",
      "A\n",
      "Y\n",
      " \n",
      "4\n"
     ]
    }
   ],
   "source": [
    "def readData():\n",
    "    with open(\"files/data1.txt\",\"r\")as f:\n",
    "        for line in f.read():\n",
    "            print(line)\n",
    "readData()"
   ]
  },
  {
   "cell_type": "code",
   "execution_count": 32,
   "metadata": {},
   "outputs": [],
   "source": [
    "#generate student mark list\n",
    "from random import randint\n",
    "def marklist(n,l,u):\n",
    "    with open(\"files/marks.txt\",\"w\")as f:\n",
    "        for student in range(50):\n",
    "            mark=(randint(l,u))\n",
    "            f.write(str(mark))\n",
    "            f.write(\"\\n\")\n",
    "    f.close()\n",
    "marklist(50,0,100)"
   ]
  },
  {
   "cell_type": "code",
   "execution_count": 33,
   "metadata": {},
   "outputs": [
    {
     "name": "stdout",
     "output_type": "stream",
     "text": [
      "average 53.82\n"
     ]
    }
   ],
   "source": [
    "def avgStudentMarks():\n",
    "    sum=0\n",
    "    c=0\n",
    "    with open(\"files/marks.txt\",'r')as f:\n",
    "         for line in f.readlines():\n",
    "                sum=sum+int(line)\n",
    "                c+=1\n",
    "    print(\"average\",sum/c)\n",
    "avgStudentMarks()\n",
    "                "
   ]
  },
  {
   "cell_type": "code",
   "execution_count": 40,
   "metadata": {},
   "outputs": [
    {
     "name": "stdout",
     "output_type": "stream",
     "text": [
      "total number of passed students 35\n",
      "total number of failed students 1\n",
      "pass percent 70.0\n",
      "fail percent 2.0\n"
     ]
    }
   ],
   "source": [
    "def Students():\n",
    "    c=0\n",
    "    d=0\n",
    "    r=0\n",
    "    with open(\"files/marks.txt\",'r')as f:\n",
    "         for line in f.readlines():\n",
    "                r+=1\n",
    "                if int(line)>=35:\n",
    "                    c+=1\n",
    "                if int(line)<35:\n",
    "                    d=+1\n",
    "    print(\"total number of passed students\",c)\n",
    "    print(\"total number of failed students\",d)\n",
    "    print(\"pass percent\",(c/r)*100)\n",
    "    print(\"fail percent\",(d/r)*100)\n",
    "Students()\n",
    "    "
   ]
  },
  {
   "cell_type": "markdown",
   "metadata": {},
   "source": [
    "# File data procesing"
   ]
  },
  {
   "cell_type": "code",
   "execution_count": 41,
   "metadata": {},
   "outputs": [
    {
     "data": {
      "text/plain": [
       "6"
      ]
     },
     "execution_count": 41,
     "metadata": {},
     "output_type": "execute_result"
    }
   ],
   "source": [
    "def Linecount():\n",
    "    with open(\"files/data1.txt\",\"r\")as f:\n",
    "        c=0\n",
    "        for line in f.readlines():\n",
    "            c+=1\n",
    "    return c\n",
    "Linecount()"
   ]
  },
  {
   "cell_type": "code",
   "execution_count": 43,
   "metadata": {},
   "outputs": [
    {
     "data": {
      "text/plain": [
       "61"
      ]
     },
     "execution_count": 43,
     "metadata": {},
     "output_type": "execute_result"
    }
   ],
   "source": [
    "def Charcount():\n",
    "    with open(\"files/data1.txt\",\"r\")as f:\n",
    "        c=0\n",
    "        for l in f.read():\n",
    "            c+=1\n",
    "    return c\n",
    "Charcount()"
   ]
  },
  {
   "cell_type": "code",
   "execution_count": 59,
   "metadata": {
    "collapsed": true
   },
   "outputs": [
    {
     "name": "stdout",
     "output_type": "stream",
     "text": [
      "P\n",
      "Y\n",
      "T\n",
      "H\n",
      "O\n",
      "N\n",
      " \n",
      "W\n",
      "O\n",
      "R\n",
      "K\n",
      "S\n",
      "H\n",
      "O\n",
      "P\n",
      "D\n",
      "A\n",
      "Y\n",
      " \n",
      "4\n",
      " \n",
      "D\n",
      "A\n",
      "Y\n",
      " \n",
      "4\n",
      "\n",
      "\n",
      " \n",
      "D\n",
      "A\n",
      "Y\n",
      " \n",
      "4\n",
      "\n",
      "\n",
      " \n",
      "D\n",
      "A\n",
      "Y\n",
      " \n",
      "4\n",
      "\n",
      "\n",
      " \n",
      "D\n",
      "A\n",
      "Y\n",
      " \n",
      "4\n",
      "\n",
      "\n",
      " \n",
      "D\n",
      "A\n",
      "Y\n",
      " \n",
      "4\n",
      "\n",
      "\n",
      " \n",
      "D\n",
      "A\n",
      "Y\n",
      " \n",
      "4\n"
     ]
    },
    {
     "data": {
      "text/plain": [
       "(35, 7)"
      ]
     },
     "execution_count": 59,
     "metadata": {},
     "output_type": "execute_result"
    }
   ],
   "source": [
    "def alphaCount():\n",
    "        with open(\"files/data1.txt\",\"r\")as f:\n",
    "            c=0\n",
    "            d=0\n",
    "            for char in f.read():\n",
    "                print(char)\n",
    "                if char.isalpha():\n",
    "                    c+=1\n",
    "                if char.isdigit():\n",
    "                    d+=1\n",
    "        return c,d\n",
    "        \n",
    "alphaCount()"
   ]
  },
  {
   "cell_type": "code",
   "execution_count": 64,
   "metadata": {},
   "outputs": [
    {
     "data": {
      "text/plain": [
       "3"
      ]
     },
     "execution_count": 64,
     "metadata": {},
     "output_type": "execute_result"
    }
   ],
   "source": [
    "def wordcount():\n",
    "    with open(\"files/data1.txt\",\"r\")as f:\n",
    "        c=0\n",
    "        for line in f.read():\n",
    "            if line==' ' or line=='\\n':\n",
    "                c+=1\n",
    "        return c\n",
    "wordcount()"
   ]
  },
  {
   "cell_type": "code",
   "execution_count": null,
   "metadata": {},
   "outputs": [],
   "source": []
  }
 ],
 "metadata": {
  "kernelspec": {
   "display_name": "Python 3",
   "language": "python",
   "name": "python3"
  },
  "language_info": {
   "codemirror_mode": {
    "name": "ipython",
    "version": 3
   },
   "file_extension": ".py",
   "mimetype": "text/x-python",
   "name": "python",
   "nbconvert_exporter": "python",
   "pygments_lexer": "ipython3",
   "version": "3.7.3"
  }
 },
 "nbformat": 4,
 "nbformat_minor": 2
}
